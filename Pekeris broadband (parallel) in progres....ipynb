{
 "cells": [
  {
   "cell_type": "code",
   "execution_count": null,
   "id": "9b7fa945",
   "metadata": {},
   "outputs": [],
   "source": [
    "import matplotlib.pyplot as plt\n",
    "plt.rcParams['font.size'] = '14'\n",
    "plt.rcParams['figure.dpi'] = 125\n",
    "plt.rcParams['figure.facecolor'] = 'white'\n",
    "\n",
    "import numpy as np\n",
    "\n",
    "import obspy\n",
    "from obspy import read, UTCDateTime, Stream, Trace\n",
    "\n",
    "import xarray as xr\n",
    "import pandas as pd\n",
    "from tqdm import tqdm\n",
    "\n",
    "import scipy\n",
    "from scipy.signal import spectrogram as sp\n",
    "from scipy.signal import welch \n",
    "\n",
    "import os\n",
    "import sys  \n",
    "module_path = os.path.abspath(os.path.join('/Users/gilaverbuch/dev/WavePropagation/pypekeris'))\n",
    "if module_path not in sys.path:\n",
    "    sys.path.append(module_path)\n",
    "from src.pypekeris.pypekeris import pekeris, pekeris_broadband\n",
    "\n",
    "import webbrowser \n",
    "import dask as dask\n",
    "from dask import delayed, compute\n",
    "from dask.distributed import Client, LocalCluster\n",
    "from dask.diagnostics import ProgressBar\n",
    "\n",
    "dask.config.set(scheduler='threads')\n",
    "\n",
    "# cluster = LocalCluster(n_workers=3, threads_per_worker=2)\n",
    "# client_dask = Client(cluster)\n",
    "# webbrowser.open(client_dask.dashboard_link, new=2)"
   ]
  },
  {
   "cell_type": "code",
   "execution_count": null,
   "id": "d9ee1e00",
   "metadata": {},
   "outputs": [],
   "source": [
    "dt = 1e-4\n",
    "l=int(50/dt)\n",
    "time = np.arange(0,dt*l, dt)\n",
    "\n",
    "fmin = 10\n",
    "fmax = 3e3\n",
    "\n",
    "t0 = 3\n",
    "t0_samp = int(t0/dt)\n",
    "\n",
    "sig_ref = np.zeros(time.size, dtype=np.float32)\n",
    "sig_ref[t0_samp] = 1\n",
    "\n",
    "tr = Trace()\n",
    "tr.stats.network = 'Signal'\n",
    "tr.stats.station = 'src'\n",
    "tr.stats.channel = 'FDH' # \n",
    "tr.stats.starttime = UTCDateTime.now()\n",
    "tr.stats.sampling_rate = 1/dt\n",
    "tr.stats.delta = dt\n",
    "tr.stats.npts = time.size\n",
    "tr.stats.calib = 1\n",
    "tr.stats.units = 'Norm.'\n",
    "tr.data = sig_ref\n",
    "\n",
    "tr.filter('bandpass', freqmin=fmin, freqmax=fmax, corners=4)\n",
    "\n",
    "sig_ref = tr.data/np.max(tr.data)\n",
    "\n",
    "l = len(sig_ref)\n",
    "frequency = np.fft.fftfreq(l, dt)\n",
    "df = frequency[1]\n",
    "freq_ref = np.fft.fft(sig_ref)\n",
    "\n",
    "plt.figure(figsize=(15,5))\n",
    "plt.plot(time, sig_ref)\n",
    "plt.xlim(0,10)\n",
    "plt.title('Signal')\n",
    "plt.xlabel('Time [sec]')\n",
    "plt.ylabel('Amplitude')\n",
    "plt.show()\n",
    "\n",
    "plt.figure(figsize=(15,5))\n",
    "plt.plot(frequency, np.abs(freq_ref))\n",
    "plt.xlim(0,500)\n",
    "plt.title('Frequency spectrum')\n",
    "plt.xlabel('Frequency [Hz]')\n",
    "plt.ylabel('Amplitude')\n",
    "plt.show()"
   ]
  },
  {
   "cell_type": "code",
   "execution_count": null,
   "id": "49fae30a",
   "metadata": {
    "scrolled": true
   },
   "outputs": [],
   "source": [
    "def _pekeris_broadband(f):\n",
    "    z_r = 9\n",
    "    r_r = 20000\n",
    "    P = pekeris(f=f, nq=5e4, dr=1, zs=1, d=10)\n",
    "    P._calc_parameters()\n",
    "    P._calc_field(r_rec=r_r, z_rec=z_r, num_mode=3)\n",
    "    \n",
    "    return P.Phi "
   ]
  },
  {
   "cell_type": "code",
   "execution_count": null,
   "id": "8c4a231c",
   "metadata": {},
   "outputs": [],
   "source": [
    "l =[]\n",
    "\n",
    "pressure = np.zeros(frequency.size, dtype=np.complex64)\n",
    "z_r = 9\n",
    "r_r = 20000\n",
    "fmax_idx = int(frequency.size/2)\n",
    "\n",
    "for idx, f in enumerate(frequency[100:fmax_idx]):\n",
    "    \n",
    "    a = delayed(_pekeris_broadband)(f) \n",
    "    l.append(a)\n",
    "    \n",
    "# p = compute(*l) "
   ]
  },
  {
   "cell_type": "code",
   "execution_count": null,
   "id": "74f49ef6",
   "metadata": {},
   "outputs": [],
   "source": [
    "%%time\n",
    "with ProgressBar():\n",
    "    p = compute(*l, scheduler='processes') "
   ]
  },
  {
   "cell_type": "code",
   "execution_count": null,
   "id": "61ad0e88",
   "metadata": {},
   "outputs": [],
   "source": [
    "pressure[100:fmax_idx] = p"
   ]
  },
  {
   "cell_type": "code",
   "execution_count": null,
   "id": "0d5c2f9b",
   "metadata": {},
   "outputs": [],
   "source": [
    "pressure_time = np.real(np.fft.fft(freq_ref*pressure*2))"
   ]
  },
  {
   "cell_type": "code",
   "execution_count": null,
   "id": "910560c4",
   "metadata": {},
   "outputs": [],
   "source": [
    "T = r_r/1500\n",
    "print(T)\n",
    "shift_samp = int(T/dt)\n",
    "\n",
    "\n",
    "signal = np.roll(pressure_time, shift=shift_samp)\n",
    "\n",
    "tr_r = tr.copy()\n",
    "tr_r.stats.station = 'rcv'\n",
    "tr_r.data = signal\n"
   ]
  },
  {
   "cell_type": "code",
   "execution_count": null,
   "id": "d98b4d40",
   "metadata": {},
   "outputs": [],
   "source": [
    "tr_r.plot();"
   ]
  },
  {
   "cell_type": "code",
   "execution_count": null,
   "id": "2eb90ae2",
   "metadata": {},
   "outputs": [],
   "source": [
    "fig = tr_r.spectrogram(wlen=0.5, per_lap=0.95, mult=2, log=False, dbscale=False, show=False);\n",
    "fig.set_figheight(10)\n",
    "fig.set_figwidth(10)\n",
    "plt.ylim(0,350)\n",
    "plt.xlim(15,25)\n",
    "plt.show()"
   ]
  },
  {
   "cell_type": "code",
   "execution_count": null,
   "id": "3136c292",
   "metadata": {},
   "outputs": [],
   "source": []
  },
  {
   "cell_type": "code",
   "execution_count": null,
   "id": "7e151848",
   "metadata": {},
   "outputs": [],
   "source": []
  },
  {
   "cell_type": "code",
   "execution_count": null,
   "id": "adb3f3b3",
   "metadata": {},
   "outputs": [],
   "source": []
  },
  {
   "cell_type": "code",
   "execution_count": null,
   "id": "e54ba7c5",
   "metadata": {},
   "outputs": [],
   "source": []
  },
  {
   "cell_type": "code",
   "execution_count": null,
   "id": "75091db3",
   "metadata": {},
   "outputs": [],
   "source": []
  },
  {
   "cell_type": "code",
   "execution_count": null,
   "id": "100afd03",
   "metadata": {},
   "outputs": [],
   "source": []
  },
  {
   "cell_type": "code",
   "execution_count": null,
   "id": "f2159c6f",
   "metadata": {},
   "outputs": [],
   "source": []
  },
  {
   "cell_type": "code",
   "execution_count": null,
   "id": "602a66d3",
   "metadata": {},
   "outputs": [],
   "source": []
  },
  {
   "cell_type": "code",
   "execution_count": null,
   "id": "6ebf65b2",
   "metadata": {},
   "outputs": [],
   "source": []
  },
  {
   "cell_type": "code",
   "execution_count": null,
   "id": "e7ca69a7",
   "metadata": {},
   "outputs": [],
   "source": [
    "pressure = np.zeros(frequency.size, dtype=np.complex64)\n",
    "\n",
    "z_r = 9\n",
    "r_r = 10000\n",
    "fmax_idx = int(frequency.size/2)\n",
    "for idx, f in enumerate(tqdm(frequency[1:fmax_idx])):\n",
    "    P = pekeris(f=f, nq=5e4, dr=1, zs=1, d=20)\n",
    "    P._calc_parameters()\n",
    "    P._calc_field(r_rec=r_r, z_rec=z_r, num_mode=3)\n",
    "    pressure[idx] = P.Phi*freq_ref[idx]"
   ]
  },
  {
   "cell_type": "code",
   "execution_count": null,
   "id": "fc1276c4",
   "metadata": {},
   "outputs": [],
   "source": [
    "def pekeris_broadband(t0=3, t_max=50, fmin=1e1, fmax=1e2, dt=1e-3, zs=5, zr=5, r=1e4, d=20, num_mode=3):\n",
    "    '''\n",
    "    This function is based on the Pekeris class, and conputes the broadband signal in a Pekeris waveguide.\n",
    "    \n",
    "    parameters\n",
    "    ----------\n",
    "        t0 = time delay of the signal, default is 3 sec\n",
    "        t_max = maximum simulation time, default is 50 sec \n",
    "        fmin = minimum frequency, default is 1e1 Hz \n",
    "        fmax = maximum frequency, default is 1e2 Hz \n",
    "        dt = time intevals, default is 1e-3 sec \n",
    "        zs = source depth, default is 5 m \n",
    "        zr = receiver depth, default is 5 m \n",
    "        r = receiver distance, default is 1e4 m\n",
    "        d = waveguide depth, default is 20 m\n",
    "        num_mode = number of modes to compute, default is 3\n",
    "    '''\n",
    "    \n",
    "    l=int(t_max/dt)\n",
    "    time = np.arange(0,dt*l, dt)\n",
    "\n",
    "    t0_samp = int(t0/dt)\n",
    "\n",
    "    sig_ref = np.zeros(time.size, dtype=np.float32)\n",
    "    sig_ref[t0_samp] = 1\n",
    "\n",
    "    tr_s = Trace()\n",
    "    tr_s.stats.network = 'Signal'\n",
    "    tr_s.stats.station = 'src'\n",
    "    tr_s.stats.channel = 'FDH' # \n",
    "    tr_s.stats.starttime = UTCDateTime.now()\n",
    "    tr_s.stats.sampling_rate = 1/dt\n",
    "    tr_s.stats.delta = dt\n",
    "    tr_s.stats.npts = time.size\n",
    "    tr_s.stats.calib = 1\n",
    "    tr_s.stats.units = 'Norm.'\n",
    "    tr_s.data = sig_ref\n",
    "\n",
    "    tr_s.filter('bandpass', freqmin=fmin, freqmax=fmax, corners=4)\n",
    "\n",
    "    sig_ref = tr_s.data/np.max(tr_s.data)\n",
    "\n",
    "    l = len(sig_ref)\n",
    "    frequency = np.fft.fftfreq(l, dt)\n",
    "    df = frequency[1]\n",
    "    freq_ref = np.fft.fft(sig_ref)\n",
    "\n",
    "    pressure = np.zeros(frequency.size, dtype=np.complex64)\n",
    "\n",
    "    fmax_idx = int(frequency.size/2)\n",
    "    for idx, f in enumerate(tqdm(frequency[1:fmax_idx])):\n",
    "        P = pekeris(f=f, nq=5e4, dr=1, zs=1, d=20)\n",
    "        P._calc_parameters()\n",
    "        P._calc_field(r_rec=r, z_rec=zr, num_mode=num_mode)\n",
    "        pressure[idx] = P.Phi*freq_ref[idx]\n",
    "        \n",
    "    pressure_time = np.real(np.fft.fft(freq_ref*pressure*2))\n",
    "    T = r/P.c1\n",
    "    shift_samp = int(T/dt)\n",
    "    signal = np.roll(pressure_time, shift=shift_samp)\n",
    "    \n",
    "    tr_r = tr_s.copy()\n",
    "    tr_r.stats.station = 'rcv'\n",
    "    tr_r.data = signal\n",
    "\n",
    "    \n",
    "    return tr_s, tr_r\n",
    "\n",
    "    "
   ]
  },
  {
   "cell_type": "code",
   "execution_count": null,
   "id": "28ea6fa2",
   "metadata": {},
   "outputs": [],
   "source": [
    "pressure = np.zeros(frequency.size, dtype=np.complex64)\n",
    "\n",
    "z_r = 9\n",
    "r_r = 10000\n",
    "fmax_idx = int(frequency.size/2)\n",
    "for idx, f in enumerate(tqdm(frequency[1:fmax_idx])):\n",
    "    P = pekeris(f=f, nq=5e4, dr=1, zs=1, d=20)\n",
    "    P._calc_parameters()\n",
    "    P._calc_field(r_rec=r_r, z_rec=z_r, num_mode=3)\n",
    "    pressure[idx] = P.Phi*freq_ref[idx]\n"
   ]
  },
  {
   "cell_type": "code",
   "execution_count": null,
   "id": "7dd39e5a",
   "metadata": {},
   "outputs": [],
   "source": []
  },
  {
   "cell_type": "code",
   "execution_count": null,
   "id": "2650ec75",
   "metadata": {},
   "outputs": [],
   "source": []
  },
  {
   "cell_type": "code",
   "execution_count": null,
   "id": "a770e260",
   "metadata": {},
   "outputs": [],
   "source": []
  },
  {
   "cell_type": "code",
   "execution_count": null,
   "id": "602f9f1c",
   "metadata": {},
   "outputs": [],
   "source": []
  }
 ],
 "metadata": {
  "kernelspec": {
   "display_name": "Python 3 (ipykernel)",
   "language": "python",
   "name": "python3"
  },
  "language_info": {
   "codemirror_mode": {
    "name": "ipython",
    "version": 3
   },
   "file_extension": ".py",
   "mimetype": "text/x-python",
   "name": "python",
   "nbconvert_exporter": "python",
   "pygments_lexer": "ipython3",
   "version": "3.10.6"
  }
 },
 "nbformat": 4,
 "nbformat_minor": 5
}
