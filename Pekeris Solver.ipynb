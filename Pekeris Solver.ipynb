{
 "cells": [
  {
   "cell_type": "code",
   "execution_count": 1,
   "id": "2da68130",
   "metadata": {},
   "outputs": [],
   "source": [
    "import matplotlib.pyplot as plt\n",
    "plt.rcParams['font.size'] = '14'\n",
    "plt.rcParams['figure.dpi'] = 125\n",
    "plt.rcParams['figure.facecolor'] = 'white'\n",
    "\n",
    "import numpy as np\n",
    "\n",
    "import obspy\n",
    "from obspy import read, UTCDateTime, Stream, Trace\n",
    "\n",
    "import xarray as xr\n",
    "import pandas as pd\n",
    "\n",
    "import scipy\n",
    "from scipy.signal import spectrogram as sp\n",
    "from scipy.signal import welch \n",
    "\n",
    "import os\n",
    "import sys  \n",
    "# module_path = os.path.abspath(os.path.join('/Users/gilaverbuch/dev/SignalProcessing/pyoad'))\n",
    "# if module_path not in sys.path:\n",
    "#     sys.path.append(module_path)\n",
    "# from src.pyoad.pyoad import read_data, save2mseed"
   ]
  },
  {
   "cell_type": "code",
   "execution_count": null,
   "id": "1f2a55e4",
   "metadata": {},
   "outputs": [],
   "source": []
  }
 ],
 "metadata": {
  "kernelspec": {
   "display_name": "Python 3 (ipykernel)",
   "language": "python",
   "name": "python3"
  },
  "language_info": {
   "codemirror_mode": {
    "name": "ipython",
    "version": 3
   },
   "file_extension": ".py",
   "mimetype": "text/x-python",
   "name": "python",
   "nbconvert_exporter": "python",
   "pygments_lexer": "ipython3",
   "version": "3.10.6"
  }
 },
 "nbformat": 4,
 "nbformat_minor": 5
}
