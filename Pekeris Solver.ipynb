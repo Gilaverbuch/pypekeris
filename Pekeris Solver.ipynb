{
 "cells": [
  {
   "cell_type": "code",
   "execution_count": null,
   "id": "a847b9b0",
   "metadata": {},
   "outputs": [],
   "source": [
    "import matplotlib.pyplot as plt\n",
    "plt.rcParams['font.size'] = '14'\n",
    "plt.rcParams['figure.dpi'] = 125\n",
    "plt.rcParams['figure.facecolor'] = 'white'\n",
    "\n",
    "# If package installed use:\n",
    "# from pypekeris import pekeris, pekeris_broadband\n",
    "\n",
    "# Otherwise:\n",
    "\n",
    "import os\n",
    "import sys \n",
    "\n",
    "module_path = os.path.abspath(os.path.join('/Users/gilaverbuch/dev/WavePropagation/pypekeris'))\n",
    "if module_path not in sys.path:\n",
    "    sys.path.append(module_path)\n",
    "from src.pypekeris.pypekeris import pekeris, pekeris_broadband\n"
   ]
  },
  {
   "cell_type": "markdown",
   "id": "8c492f92",
   "metadata": {},
   "source": [
    "# Problem geometry\n",
    "\n",
    "Two-layer liquid half space. Layer 1 (0<z<D) has a speed of sound c1. Layer 2 (z>D) has a speed of sound c2. Both source and receiver ar placed within the first layer. c2>c1. \n",
    "\n",
    "--------------------------------------------------------------------------------- z=0, pressure release surface\n",
    "\n",
    "c1\n",
    "\n",
    "\n",
    "*(0, z_s)\n",
    "\n",
    "\n",
    "\n",
    "\n",
    "                                                           *(r,z)\n",
    "\n",
    "--------------------------------------------------------------------------------- z=D, continuitu of P and w\n",
    "\n",
    "c2\n",
    "\n",
    "\n",
    "\n",
    "The period equation $\\cot (k_0 \\mu_1 d)$ = $-|\\mu_2|/\\mu_1$ -> Discrete spectrum. It implicitly defines the relationship between the priod and phase velocity."
   ]
  },
  {
   "cell_type": "code",
   "execution_count": null,
   "id": "e349b753",
   "metadata": {},
   "outputs": [],
   "source": [
    "P = pekeris()\n",
    "P.calc_parameters()\n",
    "P.print_parameters()"
   ]
  },
  {
   "cell_type": "code",
   "execution_count": null,
   "id": "992d3ea0",
   "metadata": {},
   "outputs": [],
   "source": [
    "P.plot_discrete_modes()"
   ]
  },
  {
   "cell_type": "code",
   "execution_count": null,
   "id": "172f7071",
   "metadata": {},
   "outputs": [],
   "source": [
    "P.plot_modes_shape()"
   ]
  },
  {
   "cell_type": "code",
   "execution_count": null,
   "id": "84503b6d",
   "metadata": {},
   "outputs": [],
   "source": [
    "P.calc_2D_field()\n",
    "P.plot_TL()"
   ]
  },
  {
   "cell_type": "code",
   "execution_count": null,
   "id": "810640c3",
   "metadata": {},
   "outputs": [],
   "source": [
    "P.freq = 500\n",
    "P.dz = 0.1\n",
    "P.r = 1000\n",
    "P.calc_parameters()\n",
    "P.calc_2D_field()\n",
    "P.plot_TL()"
   ]
  },
  {
   "cell_type": "code",
   "execution_count": null,
   "id": "fd8abba7",
   "metadata": {},
   "outputs": [],
   "source": [
    "P.nq=2e4\n",
    "P.calc_parameters()\n",
    "P.plot_dispersion(fmax=250, df=0.1)"
   ]
  },
  {
   "cell_type": "code",
   "execution_count": null,
   "id": "88edf310",
   "metadata": {},
   "outputs": [],
   "source": []
  },
  {
   "cell_type": "code",
   "execution_count": null,
   "id": "148fbfa4",
   "metadata": {},
   "outputs": [],
   "source": [
    "%%time\n",
    "tr_s, tr_r = pekeris_broadband(fmax=4.9e2, r=2e4, dt=1e-3, num_mode=5)"
   ]
  },
  {
   "cell_type": "code",
   "execution_count": null,
   "id": "6ccfdacd",
   "metadata": {},
   "outputs": [],
   "source": [
    "tr_r.plot();"
   ]
  },
  {
   "cell_type": "code",
   "execution_count": null,
   "id": "4bdff310",
   "metadata": {},
   "outputs": [],
   "source": [
    "fig = tr_s.spectrogram(wlen=0.5, per_lap=0.95, mult=2, log=False, dbscale=False, show=False);\n",
    "fig.set_figheight(10)\n",
    "fig.set_figwidth(15)\n",
    "plt.ylim(0,300)\n",
    "plt.xlim(0,15)\n",
    "plt.show()"
   ]
  },
  {
   "cell_type": "code",
   "execution_count": null,
   "id": "a0708f8c",
   "metadata": {},
   "outputs": [],
   "source": [
    "fig = tr_r.spectrogram(wlen=0.5, per_lap=0.95, mult=2, log=False, dbscale=False, show=False);\n",
    "fig.set_figheight(10)\n",
    "fig.set_figwidth(15)\n",
    "plt.ylim(0,500)\n",
    "plt.xlim(15,25)\n",
    "plt.show()"
   ]
  },
  {
   "cell_type": "code",
   "execution_count": null,
   "id": "67c0d005",
   "metadata": {},
   "outputs": [],
   "source": []
  },
  {
   "cell_type": "code",
   "execution_count": null,
   "id": "33720f5d",
   "metadata": {},
   "outputs": [],
   "source": []
  },
  {
   "cell_type": "code",
   "execution_count": null,
   "id": "0aa8d5c9",
   "metadata": {},
   "outputs": [],
   "source": []
  },
  {
   "cell_type": "code",
   "execution_count": null,
   "id": "5b3cb033",
   "metadata": {},
   "outputs": [],
   "source": []
  },
  {
   "cell_type": "code",
   "execution_count": null,
   "id": "c05e4e74",
   "metadata": {},
   "outputs": [],
   "source": []
  },
  {
   "cell_type": "code",
   "execution_count": null,
   "id": "20cf74a8",
   "metadata": {},
   "outputs": [],
   "source": []
  },
  {
   "cell_type": "code",
   "execution_count": null,
   "id": "791df522",
   "metadata": {},
   "outputs": [],
   "source": []
  },
  {
   "cell_type": "code",
   "execution_count": null,
   "id": "b5ee9746",
   "metadata": {},
   "outputs": [],
   "source": []
  },
  {
   "cell_type": "code",
   "execution_count": null,
   "id": "3a91446a",
   "metadata": {},
   "outputs": [],
   "source": []
  },
  {
   "cell_type": "code",
   "execution_count": null,
   "id": "83efaaf6",
   "metadata": {},
   "outputs": [],
   "source": []
  },
  {
   "cell_type": "code",
   "execution_count": null,
   "id": "f6761a87",
   "metadata": {},
   "outputs": [],
   "source": []
  }
 ],
 "metadata": {
  "kernelspec": {
   "display_name": "Python 3 (ipykernel)",
   "language": "python",
   "name": "python3"
  },
  "language_info": {
   "codemirror_mode": {
    "name": "ipython",
    "version": 3
   },
   "file_extension": ".py",
   "mimetype": "text/x-python",
   "name": "python",
   "nbconvert_exporter": "python",
   "pygments_lexer": "ipython3",
   "version": "3.11.4"
  }
 },
 "nbformat": 4,
 "nbformat_minor": 5
}
