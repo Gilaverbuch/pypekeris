{
 "cells": [
  {
   "cell_type": "code",
   "execution_count": 1,
   "id": "a847b9b0",
   "metadata": {},
   "outputs": [],
   "source": [
    "import matplotlib.pyplot as plt\n",
    "plt.rcParams['font.size'] = '14'\n",
    "plt.rcParams['figure.dpi'] = 125\n",
    "plt.rcParams['figure.facecolor'] = 'white'\n",
    "\n",
    "import numpy as np\n",
    "\n",
    "import obspy\n",
    "from obspy import read, UTCDateTime, Stream, Trace\n",
    "\n",
    "import xarray as xr\n",
    "import pandas as pd\n",
    "\n",
    "import scipy\n",
    "from scipy.signal import spectrogram as sp\n",
    "from scipy.signal import welch \n",
    "\n",
    "import os\n",
    "import sys  \n",
    "module_path = os.path.abspath(os.path.join('/Users/gilaverbuch/dev/WavePropagation/pypekeris'))\n",
    "if module_path not in sys.path:\n",
    "    sys.path.append(module_path)\n",
    "from src.pypekeris.pypekeris import pekeris\n",
    "\n",
    "# import webbrowser \n",
    "# import dask\n",
    "# from dask import delayed, compute\n",
    "# from dask.distributed import Client, LocalCluster\n",
    "\n",
    "\n",
    "# cluster = LocalCluster(n_workers=3, threads_per_worker=2)\n",
    "# client_dask = Client(cluster)\n",
    "# webbrowser.open(client_dask.dashboard_link, new=2)"
   ]
  },
  {
   "cell_type": "markdown",
   "id": "4557cbcf",
   "metadata": {},
   "source": [
    "# Problem geometry\n",
    "\n",
    "Two-layer liquid half space. Layer 1 (0<z<D) has a speed of sound c1. Layer 2 (z>D) has a speed of sound c2. Both source and receiver ar placed within the first layer. c2>c1. \n",
    "\n",
    "--------------------------------------------------------------------------------- z=0, pressure release surface\n",
    "\n",
    "c1\n",
    "\n",
    "\n",
    "*(0, z_s)\n",
    "\n",
    "\n",
    "\n",
    "\n",
    "                                                           *(r,z)\n",
    "\n",
    "--------------------------------------------------------------------------------- z=D, continuitu of P and w\n",
    "\n",
    "c2"
   ]
  },
  {
   "cell_type": "code",
   "execution_count": 2,
   "id": "be5d6f76",
   "metadata": {},
   "outputs": [],
   "source": [
    "P = pekeris()"
   ]
  },
  {
   "cell_type": "code",
   "execution_count": 6,
   "id": "6ae32e17",
   "metadata": {},
   "outputs": [
    {
     "data": {
      "text/plain": [
       "1"
      ]
     },
     "execution_count": 6,
     "metadata": {},
     "output_type": "execute_result"
    }
   ],
   "source": [
    "P.freq"
   ]
  },
  {
   "cell_type": "code",
   "execution_count": null,
   "id": "8117b831",
   "metadata": {},
   "outputs": [],
   "source": [
    "c0 = 1500 #reference velocity\n",
    "c1 = 1500 # layer 1 velocity\n",
    "c2 = 2000 # layer 2 velocity\n",
    "d  = 1000 # depth of layer 1\n",
    "\n",
    "omega = 2*np.pi*1 #angular frequency\n",
    "k0 = omega/c0 # reference wavenumber\n",
    "k1 = c0/c1 # dimentionless wavenumber layer 1\n",
    "k2 = c0/c2 # dimentionless wavenumber layer 2\n",
    "dq = (k1-k2)/1e4 # horizontal dimentionless wavenumber resolution \n",
    "q = np.arange(k2, k1, dq) # horizontal dimentionless wavenumber\n",
    "mu1 = np.sqrt(k1**2 - q**2) # dimentionless vertical wavenumber layer 1\n",
    "mu2_abs = np.sqrt((q**2 - k2**2)) # dimentionless vertical wavenumber layer 2\n",
    "mu2 = 1j*mu2_abs\n",
    "mu_func = -mu2_abs/mu1 \n",
    "cot_func = 1/np.tan(k0*mu1*d)\n",
    "idx = np.argwhere(np.diff(np.sign(mu_func - cot_func))).flatten()  #index of functions intersections (modes)"
   ]
  },
  {
   "cell_type": "code",
   "execution_count": null,
   "id": "e5483925",
   "metadata": {},
   "outputs": [],
   "source": [
    "\n",
    "plt.figure(figsize = (10,5))\n",
    "plt.plot(k1, 0, 'k.')\n",
    "plt.plot(k2, 0, 'k.')\n",
    "plt.plot(q, mu_func, 'k')\n",
    "plt.plot(q, cot_func, 'k.')\n",
    "plt.plot(q[idx], cot_func[idx], 'ro')\n",
    "plt.ylim(-10,10)\n",
    "plt.title('Intersections of $\\cot (k_0 \\mu_1 d)$ and $-|\\mu_2|/\\mu_1$')\n",
    "plt.xlabel('Non-dimensional horizontal wavenumber')\n",
    "plt.show()"
   ]
  },
  {
   "cell_type": "code",
   "execution_count": null,
   "id": "aea8b001",
   "metadata": {},
   "outputs": [],
   "source": [
    "q[idx]"
   ]
  },
  {
   "cell_type": "code",
   "execution_count": null,
   "id": "1fc3b053",
   "metadata": {},
   "outputs": [],
   "source": [
    "class pekeris_():\n",
    "    def __init__(self,c0,  c1,  c2, d, f, nq):\n",
    "        \n",
    "        self.c0 = c0\n",
    "        self.c1 = c1\n",
    "        self.c2 = c2\n",
    "        self.d  = d \n",
    "        \n",
    "        return"
   ]
  },
  {
   "cell_type": "code",
   "execution_count": null,
   "id": "62e0a4cf",
   "metadata": {},
   "outputs": [],
   "source": [
    "d = pekeris_(c0=1500,  c1=1500,  c2=2000, d=1000, f=1, nq=1)"
   ]
  },
  {
   "cell_type": "code",
   "execution_count": null,
   "id": "9a55f8a3",
   "metadata": {},
   "outputs": [],
   "source": [
    "d.c2"
   ]
  },
  {
   "cell_type": "code",
   "execution_count": null,
   "id": "e94faafb",
   "metadata": {},
   "outputs": [],
   "source": []
  }
 ],
 "metadata": {
  "kernelspec": {
   "display_name": "Python 3 (ipykernel)",
   "language": "python",
   "name": "python3"
  },
  "language_info": {
   "codemirror_mode": {
    "name": "ipython",
    "version": 3
   },
   "file_extension": ".py",
   "mimetype": "text/x-python",
   "name": "python",
   "nbconvert_exporter": "python",
   "pygments_lexer": "ipython3",
   "version": "3.10.6"
  }
 },
 "nbformat": 4,
 "nbformat_minor": 5
}
